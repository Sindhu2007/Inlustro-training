{
  "nbformat": 4,
  "nbformat_minor": 0,
  "metadata": {
    "colab": {
      "provenance": []
    },
    "kernelspec": {
      "name": "python3",
      "display_name": "Python 3"
    },
    "language_info": {
      "name": "python"
    }
  },
  "cells": [
    {
      "cell_type": "code",
      "execution_count": 1,
      "metadata": {
        "colab": {
          "base_uri": "https://localhost:8080/"
        },
        "id": "4gzvYTh0YY9E",
        "outputId": "a10a0439-11cd-4d90-d66b-3e7d849d8e25"
      },
      "outputs": [
        {
          "output_type": "stream",
          "name": "stdout",
          "text": [
            "10\n",
            "sindhu\n"
          ]
        }
      ],
      "source": [
        "a=10\n",
        "b=\"sindhu\"\n",
        "print(a)\n",
        "print(b)"
      ]
    },
    {
      "cell_type": "code",
      "source": [
        "X=100\n",
        "Y=230\n",
        "Z=X+Y\n",
        "print(Z)"
      ],
      "metadata": {
        "colab": {
          "base_uri": "https://localhost:8080/"
        },
        "id": "3v8iNQMgZxjo",
        "outputId": "622e1c1f-53b0-4815-f6df-d41ecd0e7c67"
      },
      "execution_count": 2,
      "outputs": [
        {
          "output_type": "stream",
          "name": "stdout",
          "text": [
            "330\n"
          ]
        }
      ]
    },
    {
      "cell_type": "code",
      "source": [
        "price=12.3900\n",
        "print(price)"
      ],
      "metadata": {
        "colab": {
          "base_uri": "https://localhost:8080/"
        },
        "id": "agWpSK0ObVp_",
        "outputId": "d06168f5-7848-4585-8eec-2b19d9540abc"
      },
      "execution_count": 4,
      "outputs": [
        {
          "output_type": "stream",
          "name": "stdout",
          "text": [
            "12.39\n"
          ]
        }
      ]
    },
    {
      "cell_type": "code",
      "source": [
        "is_valid=True\n",
        "print(is_valid)"
      ],
      "metadata": {
        "colab": {
          "base_uri": "https://localhost:8080/"
        },
        "id": "nQAc5YDNbb4G",
        "outputId": "7f4536c6-2ec3-4dc7-9a7a-064a2c6e5b94"
      },
      "execution_count": 5,
      "outputs": [
        {
          "output_type": "stream",
          "name": "stdout",
          "text": [
            "True\n"
          ]
        }
      ]
    },
    {
      "cell_type": "code",
      "source": [
        "x=10\n",
        "y=20\n",
        "z=30\n",
        "print(x,y,z)"
      ],
      "metadata": {
        "colab": {
          "base_uri": "https://localhost:8080/"
        },
        "id": "5xWY1DSWcRJA",
        "outputId": "fa0789c8-9017-4b87-edba-9688e4c6238a"
      },
      "execution_count": 6,
      "outputs": [
        {
          "output_type": "stream",
          "name": "stdout",
          "text": [
            "10 20 30\n"
          ]
        }
      ]
    },
    {
      "cell_type": "code",
      "source": [
        "p=100\n",
        "q=100\n",
        "r=100\n",
        "print(p)\n",
        "print(q)\n",
        "print(r)"
      ],
      "metadata": {
        "colab": {
          "base_uri": "https://localhost:8080/"
        },
        "id": "N7DnuBVmc5Tn",
        "outputId": "7956b690-665a-4ae1-c5d5-e709f0b4482e"
      },
      "execution_count": 8,
      "outputs": [
        {
          "output_type": "stream",
          "name": "stdout",
          "text": [
            "100\n",
            "100\n",
            "100\n"
          ]
        }
      ]
    },
    {
      "cell_type": "code",
      "source": [
        "age=25\n",
        "print(\"initial value:\",age)\n",
        "age=30\n",
        "print(\"change value:\",age)"
      ],
      "metadata": {
        "colab": {
          "base_uri": "https://localhost:8080/"
        },
        "id": "qHpJgT1PdEOn",
        "outputId": "c72abc06-6025-402b-b2c2-df2057432c7e"
      },
      "execution_count": 9,
      "outputs": [
        {
          "output_type": "stream",
          "name": "stdout",
          "text": [
            "initial value: 25\n",
            "change value: 30\n"
          ]
        }
      ]
    },
    {
      "cell_type": "code",
      "source": [
        "message=\"HAII GUYS\"\n",
        "print(len(message))"
      ],
      "metadata": {
        "colab": {
          "base_uri": "https://localhost:8080/"
        },
        "id": "u9wu6IY5gheu",
        "outputId": "44c920dd-704f-4687-853f-ad1c6abe88a0"
      },
      "execution_count": 14,
      "outputs": [
        {
          "output_type": "stream",
          "name": "stdout",
          "text": [
            "9\n"
          ]
        }
      ]
    },
    {
      "cell_type": "code",
      "source": [
        "data=637\n",
        "print(\"integer value:\",data)\n",
        "data=\"SINDHU\"\n",
        "print(\"change value:\",data)"
      ],
      "metadata": {
        "colab": {
          "base_uri": "https://localhost:8080/"
        },
        "id": "z0murb2Rg7pV",
        "outputId": "8f3b654a-de58-4497-f94b-2beba4d162a4"
      },
      "execution_count": 15,
      "outputs": [
        {
          "output_type": "stream",
          "name": "stdout",
          "text": [
            "integer value: 637\n",
            "change value: SINDHU\n"
          ]
        }
      ]
    },
    {
      "cell_type": "code",
      "source": [
        "value = 569\n",
        "del value\n"
      ],
      "metadata": {
        "id": "9X4_HqAfhivW"
      },
      "execution_count": 17,
      "outputs": []
    },
    {
      "cell_type": "code",
      "source": [
        "num=int(input(\"Enter a number:\"))\n",
        "if(num>0):\n",
        "  print(\"positive \")\n",
        "else:\n",
        "  print(\"negative\")"
      ],
      "metadata": {
        "colab": {
          "base_uri": "https://localhost:8080/"
        },
        "id": "K2lWGb_Tk0X-",
        "outputId": "33391915-f637-4811-87cd-8e449c5d835a"
      },
      "execution_count": 20,
      "outputs": [
        {
          "output_type": "stream",
          "name": "stdout",
          "text": [
            "Enter a number:45\n",
            "positive \n"
          ]
        }
      ]
    },
    {
      "cell_type": "code",
      "source": [
        "age=35\n",
        "if(age>=18):\n",
        "  print(\"eligible to vote\")\n",
        "else:\n",
        "  print(\"not eligible to vote\")"
      ],
      "metadata": {
        "colab": {
          "base_uri": "https://localhost:8080/"
        },
        "id": "UYnmlNZvqcH1",
        "outputId": "43252a46-ac05-4e09-c538-bf12edfe8be6"
      },
      "execution_count": 37,
      "outputs": [
        {
          "output_type": "stream",
          "name": "stdout",
          "text": [
            "eligible to vote\n"
          ]
        }
      ]
    },
    {
      "cell_type": "code",
      "source": [
        "num=6\n",
        "if(num>0):\n",
        "  print(\"positive\")\n",
        "elif(num<0):\n",
        "  print(\"negative\")\n",
        "else:\n",
        "  print(\"zero\")"
      ],
      "metadata": {
        "colab": {
          "base_uri": "https://localhost:8080/"
        },
        "id": "QSaKy3BupWL-",
        "outputId": "2576c1c1-b63e-4401-b45c-598d75865036"
      },
      "execution_count": 34,
      "outputs": [
        {
          "output_type": "stream",
          "name": "stdout",
          "text": [
            "positive\n"
          ]
        }
      ]
    },
    {
      "cell_type": "code",
      "source": [
        "number=93\n",
        "if number%2==0:\n",
        "  print(\"even\")\n",
        "else:\n",
        "  print(\"odd\")"
      ],
      "metadata": {
        "colab": {
          "base_uri": "https://localhost:8080/"
        },
        "id": "tWphc9-AqZZP",
        "outputId": "f0fa0563-12f7-49b4-8304-384548eb24a4"
      },
      "execution_count": 40,
      "outputs": [
        {
          "output_type": "stream",
          "name": "stdout",
          "text": [
            "odd\n"
          ]
        }
      ]
    },
    {
      "cell_type": "code",
      "source": [
        "number=10\n",
        "if num>0:\n",
        "  if num%2==0:\n",
        "    print(\"positive and even\")\n"
      ],
      "metadata": {
        "colab": {
          "base_uri": "https://localhost:8080/"
        },
        "id": "XyMO_colrxc-",
        "outputId": "ef5e39ac-6dd1-4f8a-f279-3c5ed49dde3a"
      },
      "execution_count": 41,
      "outputs": [
        {
          "output_type": "stream",
          "name": "stdout",
          "text": [
            "positive and even\n"
          ]
        }
      ]
    },
    {
      "cell_type": "code",
      "source": [
        "x=10\n",
        "if x==10:\n",
        "  print(\"Python is cool\")"
      ],
      "metadata": {
        "colab": {
          "base_uri": "https://localhost:8080/"
        },
        "id": "fYOfzkogsUwF",
        "outputId": "29a9ac2e-4fc0-4c7d-8a22-f4a6f7cd7f52"
      },
      "execution_count": 43,
      "outputs": [
        {
          "output_type": "stream",
          "name": "stdout",
          "text": [
            "Python is cool\n"
          ]
        }
      ]
    },
    {
      "cell_type": "code",
      "source": [
        "number=14\n",
        "print(\"Even\"if num%2==0 else \"Odd\")"
      ],
      "metadata": {
        "colab": {
          "base_uri": "https://localhost:8080/"
        },
        "id": "hUnqdm-9sl6N",
        "outputId": "4b0b05ff-fe6d-4717-be22-7e60754e290a"
      },
      "execution_count": 44,
      "outputs": [
        {
          "output_type": "stream",
          "name": "stdout",
          "text": [
            "Even\n"
          ]
        }
      ]
    },
    {
      "cell_type": "code",
      "source": [
        "text=\"I LOVE PYTHON\"\n",
        "if 'PYTHON' in text:\n",
        "  print(\"String contains 'PYTHON'\")"
      ],
      "metadata": {
        "colab": {
          "base_uri": "https://localhost:8080/"
        },
        "id": "JLs-EJaPs5yz",
        "outputId": "84edb07a-4d14-40c3-cc8f-befa6bccc921"
      },
      "execution_count": 46,
      "outputs": [
        {
          "output_type": "stream",
          "name": "stdout",
          "text": [
            "String contains 'PYTHON'\n"
          ]
        }
      ]
    },
    {
      "cell_type": "code",
      "source": [
        "number=93\n",
        "if num%3==0 and num%5==0:\n",
        "  print(\"Divisible by both 3 and 5\")\n",
        "else:\n",
        "     print(\"Not divisible by both 3 and 5\")"
      ],
      "metadata": {
        "colab": {
          "base_uri": "https://localhost:8080/"
        },
        "id": "5DtPhr9VtnzH",
        "outputId": "a7dcf0d2-0f3a-4f72-d243-c5c80d3feb93"
      },
      "execution_count": 49,
      "outputs": [
        {
          "output_type": "stream",
          "name": "stdout",
          "text": [
            "Not divisible by both 3 and 5\n"
          ]
        }
      ]
    },
    {
      "cell_type": "code",
      "source": [
        "year=2025\n",
        "if(year%4==0 and year%100!=0) or (year %400==0):\n",
        "  print(\"Leap year\")\n",
        "else:\n",
        "    print(\"Not a Leap year\")"
      ],
      "metadata": {
        "colab": {
          "base_uri": "https://localhost:8080/"
        },
        "id": "K7fxNUJuuRJG",
        "outputId": "4e045418-a488-4698-c2dd-1d139a9fa21d"
      },
      "execution_count": 51,
      "outputs": [
        {
          "output_type": "stream",
          "name": "stdout",
          "text": [
            "Not a Leap year\n"
          ]
        }
      ]
    }
  ]
}